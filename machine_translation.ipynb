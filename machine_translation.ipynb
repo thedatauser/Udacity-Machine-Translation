{
 "cells": [
  {
   "cell_type": "markdown",
   "metadata": {
    "collapsed": true
   },
   "source": [
    "# Artificial Intelligence Nanodegree\n",
    "## Machine Translation Project\n",
    "In this notebook, sections that end with **'(IMPLEMENTATION)'** in the header indicate that the following blocks of code will require additional functionality which you must provide. Please be sure to read the instructions carefully!\n",
    "\n",
    "## Introduction\n",
    "In this notebook, you will build a deep neural network that functions as part of an end-to-end machine translation pipeline. Your completed pipeline will accept English text as input and return the French translation.\n",
    "\n",
    "- **Preprocess** - You'll convert text to sequence of integers.\n",
    "- **Models** Create models which accepts a sequence of integers as input and returns a probability distribution over possible translations. After learning about the basic types of neural networks that are often used for machine translation, you will engage in your own investigations, to design your own model!\n",
    "- **Prediction** Run the model on English text."
   ]
  },
  {
   "cell_type": "code",
   "execution_count": 1,
   "metadata": {},
   "outputs": [],
   "source": [
    "import warnings"
   ]
  },
  {
   "cell_type": "code",
   "execution_count": 2,
   "metadata": {},
   "outputs": [],
   "source": [
    "warnings.filterwarnings('ignore')"
   ]
  },
  {
   "cell_type": "code",
   "execution_count": 3,
   "metadata": {},
   "outputs": [
    {
     "name": "stderr",
     "output_type": "stream",
     "text": [
      "2024-10-18 18:11:47.184211: E tensorflow/compiler/xla/stream_executor/cuda/cuda_dnn.cc:9342] Unable to register cuDNN factory: Attempting to register factory for plugin cuDNN when one has already been registered\n",
      "2024-10-18 18:11:47.184267: E tensorflow/compiler/xla/stream_executor/cuda/cuda_fft.cc:609] Unable to register cuFFT factory: Attempting to register factory for plugin cuFFT when one has already been registered\n",
      "2024-10-18 18:11:47.184332: E tensorflow/compiler/xla/stream_executor/cuda/cuda_blas.cc:1518] Unable to register cuBLAS factory: Attempting to register factory for plugin cuBLAS when one has already been registered\n",
      "2024-10-18 18:11:47.197441: I tensorflow/core/platform/cpu_feature_guard.cc:182] This TensorFlow binary is optimized to use available CPU instructions in performance-critical operations.\n",
      "To enable the following instructions: AVX2 FMA, in other operations, rebuild TensorFlow with the appropriate compiler flags.\n"
     ]
    }
   ],
   "source": [
    "%load_ext autoreload\n",
    "%aimport helper, project_tests\n",
    "%autoreload 1"
   ]
  },
  {
   "cell_type": "code",
   "execution_count": 4,
   "metadata": {},
   "outputs": [
    {
     "name": "stdout",
     "output_type": "stream",
     "text": [
      "keras==2.14.0\r\n",
      "tf-keras==2.14.1\r\n"
     ]
    }
   ],
   "source": [
    "# Should return keras==2.14.0 and tf-keras==2.14.1\n",
    "!pip freeze | grep keras"
   ]
  },
  {
   "cell_type": "code",
   "execution_count": 5,
   "metadata": {},
   "outputs": [
    {
     "name": "stdout",
     "output_type": "stream",
     "text": [
      "tensorflow==2.14.0\r\n",
      "tensorflow-datasets==4.9.4\r\n",
      "tensorflow-estimator==2.14.0\r\n",
      "tensorflow-hub==0.16.1\r\n",
      "tensorflow-io-gcs-filesystem==0.34.0\r\n",
      "tensorflow-metadata==1.15.0\r\n"
     ]
    }
   ],
   "source": [
    "# Should return tensorflow==2.14.0\n",
    "!pip freeze | grep tensorflow"
   ]
  },
  {
   "cell_type": "code",
   "execution_count": 6,
   "metadata": {},
   "outputs": [],
   "source": [
    "import collections\n",
    "\n",
    "import helper\n",
    "import numpy as np\n",
    "\n",
    "import project_tests as tests\n",
    "\n",
    "from tensorflow.keras.preprocessing.text import Tokenizer\n",
    "from keras.preprocessing.sequence import pad_sequences\n",
    "from keras.models import Model\n",
    "from tensorflow.keras.layers import GRU, Input, Dense, TimeDistributed, Activation, RepeatVector, Bidirectional\n",
    "from keras.layers import Embedding\n",
    "from keras.optimizers import Adam\n",
    "from keras.losses import sparse_categorical_crossentropy\n",
    "\n"
   ]
  },
  {
   "cell_type": "markdown",
   "metadata": {},
   "source": [
    "## Dataset\n",
    "We begin by investigating the dataset that will be used to train and evaluate your pipeline.  The most common datasets used for machine translation are from [WMT](http://www.statmt.org/).  However, that will take a long time to train a neural network on.  We'll be using a dataset we created for this project that contains a small vocabulary.  You'll be able to train your model in a reasonable time with this dataset.\n",
    "### Load Data\n",
    "The data is located in `data/small_vocab_en` and `data/small_vocab_fr`. The `small_vocab_en` file contains English sentences with their French translations in the `small_vocab_fr` file. Load the English and French data from these files from running the cell below."
   ]
  },
  {
   "cell_type": "code",
   "execution_count": 7,
   "metadata": {},
   "outputs": [
    {
     "name": "stdout",
     "output_type": "stream",
     "text": [
      "Dataset Loaded\n"
     ]
    }
   ],
   "source": [
    "# Load English data\n",
    "english_sentences = helper.load_data('data/small_vocab_en')\n",
    "# Load French data\n",
    "french_sentences = helper.load_data('data/small_vocab_fr')\n",
    "\n",
    "print('Dataset Loaded')"
   ]
  },
  {
   "cell_type": "markdown",
   "metadata": {},
   "source": [
    "### Files\n",
    "Each line in `small_vocab_en` contains an English sentence with the respective translation in each line of `small_vocab_fr`.  View the first two lines from each file."
   ]
  },
  {
   "cell_type": "code",
   "execution_count": 8,
   "metadata": {},
   "outputs": [
    {
     "name": "stdout",
     "output_type": "stream",
     "text": [
      "small_vocab_en Line 1:  new jersey is sometimes quiet during autumn , and it is snowy in april .\n",
      "small_vocab_fr Line 1:  new jersey est parfois calme pendant l' automne , et il est neigeux en avril .\n",
      "small_vocab_en Line 2:  the united states is usually chilly during july , and it is usually freezing in november .\n",
      "small_vocab_fr Line 2:  les états-unis est généralement froid en juillet , et il gèle habituellement en novembre .\n"
     ]
    }
   ],
   "source": [
    "for sample_i in range(2):\n",
    "    print('small_vocab_en Line {}:  {}'.format(sample_i + 1, english_sentences[sample_i]))\n",
    "    print('small_vocab_fr Line {}:  {}'.format(sample_i + 1, french_sentences[sample_i]))"
   ]
  },
  {
   "cell_type": "markdown",
   "metadata": {},
   "source": [
    "From looking at the sentences, you can see they have been preprocessed already.  The puncuations have been delimited using spaces. All the text have been converted to lowercase.  This should save you some time, but the text requires more preprocessing.\n",
    "### Vocabulary\n",
    "The complexity of the problem is determined by the complexity of the vocabulary.  A more complex vocabulary is a more complex problem.  Let's look at the complexity of the dataset we'll be working with."
   ]
  },
  {
   "cell_type": "code",
   "execution_count": 9,
   "metadata": {},
   "outputs": [
    {
     "name": "stdout",
     "output_type": "stream",
     "text": [
      "1823250 English words.\n",
      "227 unique English words.\n",
      "10 Most common words in the English dataset:\n",
      "\"is\" \",\" \".\" \"in\" \"it\" \"during\" \"the\" \"but\" \"and\" \"sometimes\"\n",
      "\n",
      "1961295 French words.\n",
      "355 unique French words.\n",
      "10 Most common words in the French dataset:\n",
      "\"est\" \".\" \",\" \"en\" \"il\" \"les\" \"mais\" \"et\" \"la\" \"parfois\"\n"
     ]
    }
   ],
   "source": [
    "english_words_counter = collections.Counter([word for sentence in english_sentences for word in sentence.split()])\n",
    "french_words_counter = collections.Counter([word for sentence in french_sentences for word in sentence.split()])\n",
    "\n",
    "print('{} English words.'.format(len([word for sentence in english_sentences for word in sentence.split()])))\n",
    "print('{} unique English words.'.format(len(english_words_counter)))\n",
    "print('10 Most common words in the English dataset:')\n",
    "print('\"' + '\" \"'.join(list(zip(*english_words_counter.most_common(10)))[0]) + '\"')\n",
    "print()\n",
    "print('{} French words.'.format(len([word for sentence in french_sentences for word in sentence.split()])))\n",
    "print('{} unique French words.'.format(len(french_words_counter)))\n",
    "print('10 Most common words in the French dataset:')\n",
    "print('\"' + '\" \"'.join(list(zip(*french_words_counter.most_common(10)))[0]) + '\"')"
   ]
  },
  {
   "cell_type": "markdown",
   "metadata": {},
   "source": [
    "For comparison, _Alice's Adventures in Wonderland_ contains 2,766 unique words of a total of 15,500 words.\n",
    "## Preprocess\n",
    "For this project, you won't use text data as input to your model. Instead, you'll convert the text into sequences of integers using the following preprocess methods:\n",
    "1. Tokenize the words into ids\n",
    "2. Add padding to make all the sequences the same length.\n",
    "\n",
    "Time to start preprocessing the data...\n",
    "### Tokenize (IMPLEMENTATION)\n",
    "For a neural network to predict on text data, it first has to be turned into data it can understand. Text data like \"dog\" is a sequence of ASCII character encodings.  Since a neural network is a series of multiplication and addition operations, the input data needs to be number(s).\n",
    "\n",
    "We can turn each character into a number or each word into a number.  These are called character and word ids, respectively.  Character ids are used for character level models that generate text predictions for each character.  A word level model uses word ids that generate text predictions for each word.  Word level models tend to learn better, since they are lower in complexity, so we'll use those.\n",
    "\n",
    "Turn each sentence into a sequence of words ids using Keras's [`Tokenizer`](https://keras.io/preprocessing/text/#tokenizer) function. Use this function to tokenize `english_sentences` and `french_sentences` in the cell below.\n",
    "\n",
    "Running the cell will run `tokenize` on sample data and show output for debugging."
   ]
  },
  {
   "cell_type": "code",
   "execution_count": 10,
   "metadata": {},
   "outputs": [
    {
     "name": "stdout",
     "output_type": "stream",
     "text": [
      "{'the': 1, 'quick': 2, 'a': 3, 'brown': 4, 'fox': 5, 'jumps': 6, 'over': 7, 'lazy': 8, 'dog': 9, 'by': 10, 'jove': 11, 'my': 12, 'study': 13, 'of': 14, 'lexicography': 15, 'won': 16, 'prize': 17, 'this': 18, 'is': 19, 'short': 20, 'sentence': 21}\n",
      "\n",
      "Sequence 1 in x\n",
      "  Input:  The quick brown fox jumps over the lazy dog .\n",
      "  Output: [1, 2, 4, 5, 6, 7, 1, 8, 9]\n",
      "Sequence 2 in x\n",
      "  Input:  By Jove , my quick study of lexicography won a prize .\n",
      "  Output: [10, 11, 12, 2, 13, 14, 15, 16, 3, 17]\n",
      "Sequence 3 in x\n",
      "  Input:  This is a short sentence .\n",
      "  Output: [18, 19, 3, 20, 21]\n"
     ]
    }
   ],
   "source": [
    "def tokenize(x):\n",
    "    \"\"\"\n",
    "    Tokenize x\n",
    "    :param x: List of sentences/strings to be tokenized\n",
    "    :return: Tuple of (tokenized x data, tokenizer used to tokenize x)\n",
    "    \"\"\"\n",
    "    # TODO: Implement\n",
    "    # Initialize the tokenizer\n",
    "    tokenizer = Tokenizer()\n",
    "    \n",
    "    # Fit the tokenizer on the sentence\n",
    "    tokenizer.fit_on_texts(x)\n",
    "    \n",
    "      \n",
    "    return tokenizer.texts_to_sequences(x), tokenizer\n",
    "\n",
    "tests.test_tokenize(tokenize)\n",
    "\n",
    "# Tokenize Example output\n",
    "text_sentences = [\n",
    "    'The quick brown fox jumps over the lazy dog .',\n",
    "    'By Jove , my quick study of lexicography won a prize .',\n",
    "    'This is a short sentence .']\n",
    "text_tokenized, text_tokenizer = tokenize(text_sentences)\n",
    "print(text_tokenizer.word_index)\n",
    "print()\n",
    "for sample_i, (sent, token_sent) in enumerate(zip(text_sentences, text_tokenized)):\n",
    "    print('Sequence {} in x'.format(sample_i + 1))\n",
    "    print('  Input:  {}'.format(sent))\n",
    "    print('  Output: {}'.format(token_sent))"
   ]
  },
  {
   "cell_type": "markdown",
   "metadata": {},
   "source": [
    "### Padding (IMPLEMENTATION)\n",
    "When batching the sequence of word ids together, each sequence needs to be the same length.  Since sentences are dynamic in length, we can add padding to the end of the sequences to make them the same length.\n",
    "\n",
    "Make sure all the English sequences have the same length and all the French sequences have the same length by adding padding to the **end** of each sequence using Keras's [`pad_sequences`](https://keras.io/preprocessing/sequence/#pad_sequences) function."
   ]
  },
  {
   "cell_type": "code",
   "execution_count": 11,
   "metadata": {},
   "outputs": [
    {
     "name": "stdout",
     "output_type": "stream",
     "text": [
      "Sequence 1 in x\n",
      "  Input:  [1 2 4 5 6 7 1 8 9]\n",
      "  Output: [1 2 4 5 6 7 1 8 9 0]\n",
      "Sequence 2 in x\n",
      "  Input:  [10 11 12  2 13 14 15 16  3 17]\n",
      "  Output: [10 11 12  2 13 14 15 16  3 17]\n",
      "Sequence 3 in x\n",
      "  Input:  [18 19  3 20 21]\n",
      "  Output: [18 19  3 20 21  0  0  0  0  0]\n"
     ]
    }
   ],
   "source": [
    "def pad(x, length=None):\n",
    "    \"\"\"\n",
    "    Pad x\n",
    "    :param x: List of sequences.\n",
    "    :param length: Length to pad the sequence to.  If None, use length of longest sequence in x.\n",
    "    :return: Padded numpy array of sequences\n",
    "    \"\"\"\n",
    "    # TODO: Implement\n",
    "    if length is None:\n",
    "        length = max([len(sentence) for sentence in x])\n",
    "    return pad_sequences(x, maxlen=length, padding='post')\n",
    "tests.test_pad(pad)\n",
    "\n",
    "# Pad Tokenized output\n",
    "test_pad = pad(text_tokenized)\n",
    "for sample_i, (token_sent, pad_sent) in enumerate(zip(text_tokenized, test_pad)):\n",
    "    print('Sequence {} in x'.format(sample_i + 1))\n",
    "    print('  Input:  {}'.format(np.array(token_sent)))\n",
    "    print('  Output: {}'.format(pad_sent))"
   ]
  },
  {
   "cell_type": "markdown",
   "metadata": {},
   "source": [
    "### Preprocess Pipeline\n",
    "Your focus for this project is to build neural network architecture, so we won't ask you to create a preprocess pipeline.  Instead, we've provided you with the implementation of the `preprocess` function."
   ]
  },
  {
   "cell_type": "code",
   "execution_count": 12,
   "metadata": {},
   "outputs": [
    {
     "name": "stdout",
     "output_type": "stream",
     "text": [
      "Data Preprocessed\n",
      "Max English sentence length: 15\n",
      "Max French sentence length: 21\n",
      "English vocabulary size: 199\n",
      "French vocabulary size: 344\n"
     ]
    }
   ],
   "source": [
    "def preprocess(x, y):\n",
    "    \"\"\"\n",
    "    Preprocess x and y\n",
    "    :param x: Feature List of sentences\n",
    "    :param y: Label List of sentences\n",
    "    :return: Tuple of (Preprocessed x, Preprocessed y, x tokenizer, y tokenizer)\n",
    "    \"\"\"\n",
    "    preprocess_x, x_tk = tokenize(x)\n",
    "    preprocess_y, y_tk = tokenize(y)\n",
    "\n",
    "    preprocess_x = pad(preprocess_x)\n",
    "    preprocess_y = pad(preprocess_y)\n",
    "\n",
    "    # Keras's sparse_categorical_crossentropy function requires the labels to be in 3 dimensions\n",
    "    preprocess_y = preprocess_y.reshape(*preprocess_y.shape, 1)\n",
    "\n",
    "    return preprocess_x, preprocess_y, x_tk, y_tk\n",
    "\n",
    "preproc_english_sentences, preproc_french_sentences, english_tokenizer, french_tokenizer =\\\n",
    "    preprocess(english_sentences, french_sentences)\n",
    "    \n",
    "max_english_sequence_length = preproc_english_sentences.shape[1]\n",
    "max_french_sequence_length = preproc_french_sentences.shape[1]\n",
    "english_vocab_size = len(english_tokenizer.word_index)\n",
    "french_vocab_size = len(french_tokenizer.word_index)\n",
    "\n",
    "print('Data Preprocessed')\n",
    "print(\"Max English sentence length:\", max_english_sequence_length)\n",
    "print(\"Max French sentence length:\", max_french_sequence_length)\n",
    "print(\"English vocabulary size:\", english_vocab_size)\n",
    "print(\"French vocabulary size:\", french_vocab_size)"
   ]
  },
  {
   "cell_type": "markdown",
   "metadata": {},
   "source": [
    "## Models\n",
    "In this section, you will experiment with various neural network architectures.\n",
    "You will begin by training four relatively simple architectures.\n",
    "- Model 1 is a simple RNN\n",
    "- Model 2 is a RNN with Embedding\n",
    "- Model 3 is a Bidirectional RNN\n",
    "- Model 4 is an Encoder-Decoder RNN\n",
    "\n",
    "After experimenting with the four simple architectures, you will construct a deeper architecture that is designed to outperform all four models.\n",
    "### Ids Back to Text\n",
    "The neural network will be translating the input to words ids, which isn't the final form we want.  We want the French translation.  The function `logits_to_text` will bridge the gab between the logits from the neural network to the French translation.  You'll be using this function to better understand the output of the neural network."
   ]
  },
  {
   "cell_type": "code",
   "execution_count": 13,
   "metadata": {},
   "outputs": [
    {
     "name": "stdout",
     "output_type": "stream",
     "text": [
      "`logits_to_text` function loaded.\n"
     ]
    }
   ],
   "source": [
    "def logits_to_text(logits, tokenizer):\n",
    "    \"\"\"\n",
    "    Turn logits from a neural network into text using the tokenizer\n",
    "    :param logits: Logits from a neural network\n",
    "    :param tokenizer: Keras Tokenizer fit on the labels\n",
    "    :return: String that represents the text of the logits\n",
    "    \"\"\"\n",
    "    index_to_words = {id: word for word, id in tokenizer.word_index.items()}\n",
    "    index_to_words[0] = '<PAD>'\n",
    "\n",
    "    return ' '.join([index_to_words[prediction] for prediction in np.argmax(logits, 1)])\n",
    "\n",
    "print('`logits_to_text` function loaded.')"
   ]
  },
  {
   "cell_type": "markdown",
   "metadata": {},
   "source": [
    "### Model 1: RNN (IMPLEMENTATION)\n",
    "![RNN](images/rnn.png)\n",
    "A basic RNN model is a good baseline for sequence data.  In this model, you'll build a RNN that translates English to French."
   ]
  },
  {
   "cell_type": "code",
   "execution_count": 14,
   "metadata": {},
   "outputs": [
    {
     "name": "stderr",
     "output_type": "stream",
     "text": [
      "2024-10-18 18:12:03.644334: I tensorflow/compiler/xla/stream_executor/cuda/cuda_gpu_executor.cc:894] successful NUMA node read from SysFS had negative value (-1), but there must be at least one NUMA node, so returning NUMA node zero. See more at https://github.com/torvalds/linux/blob/v6.0/Documentation/ABI/testing/sysfs-bus-pci#L344-L355\n",
      "2024-10-18 18:12:03.656441: I tensorflow/compiler/xla/stream_executor/cuda/cuda_gpu_executor.cc:894] successful NUMA node read from SysFS had negative value (-1), but there must be at least one NUMA node, so returning NUMA node zero. See more at https://github.com/torvalds/linux/blob/v6.0/Documentation/ABI/testing/sysfs-bus-pci#L344-L355\n",
      "2024-10-18 18:12:03.659847: I tensorflow/compiler/xla/stream_executor/cuda/cuda_gpu_executor.cc:894] successful NUMA node read from SysFS had negative value (-1), but there must be at least one NUMA node, so returning NUMA node zero. See more at https://github.com/torvalds/linux/blob/v6.0/Documentation/ABI/testing/sysfs-bus-pci#L344-L355\n",
      "2024-10-18 18:12:03.665403: I tensorflow/compiler/xla/stream_executor/cuda/cuda_gpu_executor.cc:894] successful NUMA node read from SysFS had negative value (-1), but there must be at least one NUMA node, so returning NUMA node zero. See more at https://github.com/torvalds/linux/blob/v6.0/Documentation/ABI/testing/sysfs-bus-pci#L344-L355\n",
      "2024-10-18 18:12:03.668700: I tensorflow/compiler/xla/stream_executor/cuda/cuda_gpu_executor.cc:894] successful NUMA node read from SysFS had negative value (-1), but there must be at least one NUMA node, so returning NUMA node zero. See more at https://github.com/torvalds/linux/blob/v6.0/Documentation/ABI/testing/sysfs-bus-pci#L344-L355\n",
      "2024-10-18 18:12:03.671986: I tensorflow/compiler/xla/stream_executor/cuda/cuda_gpu_executor.cc:894] successful NUMA node read from SysFS had negative value (-1), but there must be at least one NUMA node, so returning NUMA node zero. See more at https://github.com/torvalds/linux/blob/v6.0/Documentation/ABI/testing/sysfs-bus-pci#L344-L355\n",
      "2024-10-18 18:12:03.991536: I tensorflow/compiler/xla/stream_executor/cuda/cuda_gpu_executor.cc:894] successful NUMA node read from SysFS had negative value (-1), but there must be at least one NUMA node, so returning NUMA node zero. See more at https://github.com/torvalds/linux/blob/v6.0/Documentation/ABI/testing/sysfs-bus-pci#L344-L355\n",
      "2024-10-18 18:12:03.993758: I tensorflow/compiler/xla/stream_executor/cuda/cuda_gpu_executor.cc:894] successful NUMA node read from SysFS had negative value (-1), but there must be at least one NUMA node, so returning NUMA node zero. See more at https://github.com/torvalds/linux/blob/v6.0/Documentation/ABI/testing/sysfs-bus-pci#L344-L355\n",
      "2024-10-18 18:12:03.995855: I tensorflow/compiler/xla/stream_executor/cuda/cuda_gpu_executor.cc:894] successful NUMA node read from SysFS had negative value (-1), but there must be at least one NUMA node, so returning NUMA node zero. See more at https://github.com/torvalds/linux/blob/v6.0/Documentation/ABI/testing/sysfs-bus-pci#L344-L355\n",
      "2024-10-18 18:12:03.997848: I tensorflow/core/common_runtime/gpu/gpu_device.cc:1886] Created device /job:localhost/replica:0/task:0/device:GPU:0 with 13764 MB memory:  -> device: 0, name: Tesla T4, pci bus id: 0000:00:06.0, compute capability: 7.5\n"
     ]
    },
    {
     "name": "stdout",
     "output_type": "stream",
     "text": [
      "Epoch 1/10\n"
     ]
    },
    {
     "name": "stderr",
     "output_type": "stream",
     "text": [
      "2024-10-18 18:12:07.469548: I tensorflow/compiler/xla/stream_executor/cuda/cuda_dnn.cc:442] Loaded cuDNN version 8600\n",
      "2024-10-18 18:12:07.532342: I tensorflow/compiler/xla/service/service.cc:168] XLA service 0x7a837b2799b0 initialized for platform CUDA (this does not guarantee that XLA will be used). Devices:\n",
      "2024-10-18 18:12:07.532402: I tensorflow/compiler/xla/service/service.cc:176]   StreamExecutor device (0): Tesla T4, Compute Capability 7.5\n",
      "2024-10-18 18:12:07.539419: I tensorflow/compiler/mlir/tensorflow/utils/dump_mlir_util.cc:269] disabling MLIR crash reproducer, set env var `MLIR_CRASH_REPRODUCER_DIRECTORY` to enable.\n",
      "2024-10-18 18:12:07.893172: I ./tensorflow/compiler/jit/device_compiler.h:186] Compiled cluster using XLA!  This line is logged at most once for the lifetime of the process.\n"
     ]
    },
    {
     "name": "stdout",
     "output_type": "stream",
     "text": [
      "108/108 [==============================] - 6s 28ms/step - loss: 2.5555 - accuracy: 0.4828 - val_loss: nan - val_accuracy: 0.5700\n",
      "Epoch 2/10\n",
      "108/108 [==============================] - 2s 23ms/step - loss: 1.6528 - accuracy: 0.5853 - val_loss: nan - val_accuracy: 0.6000\n",
      "Epoch 3/10\n",
      "108/108 [==============================] - 2s 23ms/step - loss: 1.4235 - accuracy: 0.6145 - val_loss: nan - val_accuracy: 0.6268\n",
      "Epoch 4/10\n",
      "108/108 [==============================] - 2s 23ms/step - loss: 1.2927 - accuracy: 0.6375 - val_loss: nan - val_accuracy: 0.6454\n",
      "Epoch 5/10\n",
      "108/108 [==============================] - 2s 23ms/step - loss: 1.1965 - accuracy: 0.6548 - val_loss: nan - val_accuracy: 0.6533\n",
      "Epoch 6/10\n",
      "108/108 [==============================] - 2s 23ms/step - loss: 1.1345 - accuracy: 0.6646 - val_loss: nan - val_accuracy: 0.6685\n",
      "Epoch 7/10\n",
      "108/108 [==============================] - 3s 23ms/step - loss: 1.0892 - accuracy: 0.6714 - val_loss: nan - val_accuracy: 0.6716\n",
      "Epoch 8/10\n",
      "108/108 [==============================] - 3s 23ms/step - loss: 1.0565 - accuracy: 0.6750 - val_loss: nan - val_accuracy: 0.6747\n",
      "Epoch 9/10\n",
      "108/108 [==============================] - 2s 23ms/step - loss: 1.0265 - accuracy: 0.6788 - val_loss: nan - val_accuracy: 0.6874\n",
      "Epoch 10/10\n",
      "108/108 [==============================] - 2s 23ms/step - loss: 1.0010 - accuracy: 0.6823 - val_loss: nan - val_accuracy: 0.6829\n"
     ]
    },
    {
     "data": {
      "text/plain": [
       "<keras.src.callbacks.History at 0x7a860d8451d0>"
      ]
     },
     "execution_count": 14,
     "metadata": {},
     "output_type": "execute_result"
    }
   ],
   "source": [
    "def simple_model(input_shape, output_sequence_length, english_vocab_size, french_vocab_size):\n",
    "    \"\"\"\n",
    "    Build and train a basic RNN on x and y\n",
    "    :param input_shape: Tuple of input shape\n",
    "    :param output_sequence_length: Length of output sequence\n",
    "    :param english_vocab_size: Number of unique English words in the dataset\n",
    "    :param french_vocab_size: Number of unique French words in the dataset\n",
    "    :return: Keras model built, but not trained\n",
    "    \"\"\"\n",
    "    # TODO: Build the layers\n",
    "   \n",
    "    learning_rate = 1e-3\n",
    "\n",
    "    input_seq = Input(input_shape[1:])\n",
    "    rnn = GRU(256, return_sequences=True)(input_seq)\n",
    "    logits = TimeDistributed(Dense(french_vocab_size))(rnn)\n",
    "\n",
    "    model = Model(input_seq, Activation('softmax')(logits))\n",
    "    model.compile(loss=sparse_categorical_crossentropy,\n",
    "                  optimizer=Adam(learning_rate),\n",
    "                  metrics=['accuracy'])\n",
    "    return model\n",
    "\n",
    "tests.test_simple_model(simple_model)\n",
    "\n",
    "# Reshaping the input to work with a basic RNN\n",
    "tmp_x = pad(preproc_english_sentences, max_french_sequence_length)\n",
    "tmp_x = tmp_x.reshape((-1, preproc_french_sentences.shape[-2], 1))\n",
    "\n",
    "# Train the neural network\n",
    "simple_rnn_model = simple_model(\n",
    "    tmp_x.shape,\n",
    "    max_french_sequence_length,\n",
    "    english_vocab_size,\n",
    "    french_vocab_size)\n",
    "    \n",
    "simple_rnn_model.fit(tmp_x, preproc_french_sentences, batch_size=1024, epochs=10, validation_split=0.2)\n",
    "\n"
   ]
  },
  {
   "cell_type": "code",
   "execution_count": 15,
   "metadata": {},
   "outputs": [
    {
     "name": "stdout",
     "output_type": "stream",
     "text": [
      "1/1 [==============================] - 0s 416ms/step\n",
      "new jersey est parfois calme en l' de il il est en en <PAD> <PAD> <PAD> <PAD> <PAD> <PAD> <PAD> <PAD>\n"
     ]
    }
   ],
   "source": [
    "# Print prediction(s)\n",
    "print(logits_to_text(simple_rnn_model.predict(tmp_x[:1])[0], french_tokenizer))"
   ]
  },
  {
   "cell_type": "code",
   "execution_count": 16,
   "metadata": {},
   "outputs": [
    {
     "data": {
      "text/plain": [
       "\"new jersey est parfois calme pendant l' automne , et il est neigeux en avril .\""
      ]
     },
     "execution_count": 16,
     "metadata": {},
     "output_type": "execute_result"
    }
   ],
   "source": [
    "french_sentences[0]"
   ]
  },
  {
   "cell_type": "markdown",
   "metadata": {},
   "source": [
    "### Model 2: Embedding (IMPLEMENTATION)\n",
    "![RNN](images/embedding.png)\n",
    "You've turned the words into ids, but there's a better representation of a word.  This is called word embeddings.  An embedding is a vector representation of the word that is close to similar words in n-dimensional space, where the n represents the size of the embedding vectors.\n",
    "\n",
    "In this model, you'll create a RNN model using embedding."
   ]
  },
  {
   "cell_type": "code",
   "execution_count": 17,
   "metadata": {},
   "outputs": [
    {
     "name": "stdout",
     "output_type": "stream",
     "text": [
      "Epoch 1/10\n",
      "108/108 [==============================] - 9s 61ms/step - loss: 3.2086 - accuracy: 0.4271 - val_loss: nan - val_accuracy: 0.4804\n",
      "Epoch 2/10\n",
      "108/108 [==============================] - 3s 29ms/step - loss: 2.1134 - accuracy: 0.5314 - val_loss: nan - val_accuracy: 0.5885\n",
      "Epoch 3/10\n",
      "108/108 [==============================] - 3s 24ms/step - loss: 1.4526 - accuracy: 0.6439 - val_loss: nan - val_accuracy: 0.6967\n",
      "Epoch 4/10\n",
      "108/108 [==============================] - 3s 26ms/step - loss: 1.0447 - accuracy: 0.7428 - val_loss: nan - val_accuracy: 0.7798\n",
      "Epoch 5/10\n",
      "108/108 [==============================] - 3s 24ms/step - loss: 0.7714 - accuracy: 0.7972 - val_loss: nan - val_accuracy: 0.8168\n",
      "Epoch 6/10\n",
      "108/108 [==============================] - 3s 25ms/step - loss: 0.6081 - accuracy: 0.8305 - val_loss: nan - val_accuracy: 0.8444\n",
      "Epoch 7/10\n",
      "108/108 [==============================] - 3s 24ms/step - loss: 0.5063 - accuracy: 0.8536 - val_loss: nan - val_accuracy: 0.8636\n",
      "Epoch 8/10\n",
      "108/108 [==============================] - 3s 26ms/step - loss: 0.4386 - accuracy: 0.8700 - val_loss: nan - val_accuracy: 0.8741\n",
      "Epoch 9/10\n",
      "108/108 [==============================] - 3s 27ms/step - loss: 0.3899 - accuracy: 0.8818 - val_loss: nan - val_accuracy: 0.8843\n",
      "Epoch 10/10\n",
      "108/108 [==============================] - 3s 26ms/step - loss: 0.3540 - accuracy: 0.8914 - val_loss: nan - val_accuracy: 0.8959\n"
     ]
    },
    {
     "data": {
      "text/plain": [
       "<keras.src.callbacks.History at 0x7a860cdffed0>"
      ]
     },
     "execution_count": 17,
     "metadata": {},
     "output_type": "execute_result"
    }
   ],
   "source": [
    "def embed_model(input_shape, output_sequence_length, english_vocab_size, french_vocab_size):\n",
    "    \"\"\"\n",
    "    Build and train a RNN model using word embedding on x and y\n",
    "    :param input_shape: Tuple of input shape\n",
    "    :param output_sequence_length: Length of output sequence\n",
    "    :param english_vocab_size: Number of unique English words in the dataset\n",
    "    :param french_vocab_size: Number of unique French words in the dataset\n",
    "    :return: Keras model built, but not trained\n",
    "    \"\"\"\n",
    "    # TODO: Implement\n",
    "    learning_rate = 1e-3\n",
    "\n",
    "    #input layer\n",
    "    input_seq = Input(shape=input_shape[1:])\n",
    "   \n",
    "    #embedding layer\n",
    "    embedding = Embedding(input_dim=english_vocab_size, output_dim=64, input_length=input_shape)(input_seq)\n",
    "    \n",
    "    #RNN layer\n",
    "    rnn = GRU(256, return_sequences=True)(embedding)\n",
    "    \n",
    "    \n",
    "    logits = TimeDistributed(Dense(french_vocab_size))(rnn)\n",
    "\n",
    "    #Output layer\n",
    "    output = Activation('softmax')(logits)\n",
    "    \n",
    "    #Model compilation\n",
    "    model = Model(inputs=input_seq, outputs=output)\n",
    "    model.compile(loss=sparse_categorical_crossentropy,\n",
    "                  optimizer=Adam(learning_rate),\n",
    "                  metrics=['accuracy'])\n",
    "    return model\n",
    "    \n",
    "tests.test_embed_model(embed_model)\n",
    "\n",
    "# Reshaping the input\n",
    "tmp_x = pad(preproc_english_sentences, max_french_sequence_length)\n",
    "#tmp_x = tmp_x.reshape((-1, preproc_french_sentences.shape[-2], 1))\n",
    "\n",
    "# Train the neural network\n",
    "embed_rnn_model = embed_model(\n",
    "    tmp_x.shape,\n",
    "    max_french_sequence_length,\n",
    "    english_vocab_size,\n",
    "    french_vocab_size)\n",
    "\n",
    "embed_rnn_model.summary()\n",
    "\n",
    "embed_rnn_model.fit(tmp_x, preproc_french_sentences, batch_size=1024, epochs=10, validation_split=0.2)"
   ]
  },
  {
   "cell_type": "code",
   "execution_count": 18,
   "metadata": {},
   "outputs": [
    {
     "name": "stdout",
     "output_type": "stream",
     "text": [
      "1/1 [==============================] - 1s 554ms/step\n",
      "new jersey est parfois calme en l' et l' automne mais il en <PAD> <PAD> <PAD> <PAD> <PAD> <PAD> <PAD> <PAD>\n"
     ]
    },
    {
     "data": {
      "text/plain": [
       "\"new jersey est parfois calme pendant l' automne , et il est neigeux en avril .\""
      ]
     },
     "execution_count": 18,
     "metadata": {},
     "output_type": "execute_result"
    }
   ],
   "source": [
    "# Print prediction(s)\n",
    "print(logits_to_text(embed_rnn_model.predict(tmp_x[:1])[0], french_tokenizer))\n",
    "\n",
    "french_sentences[0]\n"
   ]
  },
  {
   "cell_type": "markdown",
   "metadata": {},
   "source": [
    "### Model 3: Bidirectional RNNs (IMPLEMENTATION)\n",
    "![RNN](images/bidirectional.png)\n",
    "One restriction of a RNN is that it can't see the future input, only the past.  This is where bidirectional recurrent neural networks come in.  They are able to see the future data."
   ]
  },
  {
   "cell_type": "code",
   "execution_count": 19,
   "metadata": {},
   "outputs": [
    {
     "name": "stdout",
     "output_type": "stream",
     "text": [
      "Epoch 1/10\n",
      "108/108 [==============================] - 9s 49ms/step - loss: 2.1359 - accuracy: 0.5477 - val_loss: nan - val_accuracy: 0.6088\n",
      "Epoch 2/10\n",
      "108/108 [==============================] - 4s 41ms/step - loss: 1.3696 - accuracy: 0.6279 - val_loss: nan - val_accuracy: 0.6452\n",
      "Epoch 3/10\n",
      "108/108 [==============================] - 4s 41ms/step - loss: 1.1989 - accuracy: 0.6574 - val_loss: nan - val_accuracy: 0.6699\n",
      "Epoch 4/10\n",
      "108/108 [==============================] - 4s 41ms/step - loss: 1.0932 - accuracy: 0.6781 - val_loss: nan - val_accuracy: 0.6884\n",
      "Epoch 5/10\n",
      "108/108 [==============================] - 4s 42ms/step - loss: 1.0204 - accuracy: 0.6908 - val_loss: nan - val_accuracy: 0.6965\n",
      "Epoch 6/10\n",
      "108/108 [==============================] - 5s 42ms/step - loss: 0.9672 - accuracy: 0.6997 - val_loss: nan - val_accuracy: 0.7044\n",
      "Epoch 7/10\n",
      "108/108 [==============================] - 5s 42ms/step - loss: 0.9259 - accuracy: 0.7068 - val_loss: nan - val_accuracy: 0.7120\n",
      "Epoch 8/10\n",
      "108/108 [==============================] - 5s 42ms/step - loss: 0.9048 - accuracy: 0.7087 - val_loss: nan - val_accuracy: 0.7115\n",
      "Epoch 9/10\n",
      "108/108 [==============================] - 4s 42ms/step - loss: 0.8673 - accuracy: 0.7163 - val_loss: nan - val_accuracy: 0.7154\n",
      "Epoch 10/10\n",
      "108/108 [==============================] - 4s 41ms/step - loss: 0.8437 - accuracy: 0.7200 - val_loss: nan - val_accuracy: 0.7234\n"
     ]
    },
    {
     "data": {
      "text/plain": [
       "<keras.src.callbacks.History at 0x7a85faf03f90>"
      ]
     },
     "execution_count": 19,
     "metadata": {},
     "output_type": "execute_result"
    }
   ],
   "source": [
    "\n",
    "def bd_model(input_shape, output_sequence_length, english_vocab_size, french_vocab_size):\n",
    "    \"\"\"\n",
    "    Build and train a bidirectional RNN model on x and y\n",
    "    :param input_shape: Tuple of input shape\n",
    "    :param output_sequence_length: Length of output sequence\n",
    "    :param english_vocab_size: Number of unique English words in the dataset\n",
    "    :param french_vocab_size: Number of unique French words in the dataset\n",
    "    :return: Keras model built, but not trained\n",
    "    \"\"\"\n",
    "    # TODO: Implement\n",
    "    \n",
    "    learning_rate = 1e-3\n",
    "\n",
    "    #input layer\n",
    "    input_seq = Input(shape=input_shape[1:])\n",
    "   \n",
    "    \n",
    "    #RNN layer\n",
    "    bd_rnn = Bidirectional(GRU(256, return_sequences=True))(input_seq)\n",
    "    \n",
    "    \n",
    "    logits = TimeDistributed(Dense(french_vocab_size))(bd_rnn)\n",
    "\n",
    "    #Output layer\n",
    "    output = Activation('softmax')(logits)\n",
    "    \n",
    "    #Model compilation\n",
    "    model = Model(inputs=input_seq, outputs=output)\n",
    "    \n",
    "    model.compile(loss=sparse_categorical_crossentropy,\n",
    "                  optimizer=Adam(learning_rate),\n",
    "                  metrics=['accuracy'])\n",
    "    return model\n",
    "\n",
    "tests.test_bd_model(bd_model)\n",
    "\n",
    "# Reshaping the input \n",
    "tmp_x = pad(preproc_english_sentences, max_french_sequence_length)\n",
    "tmp_x = tmp_x.reshape((-1, preproc_french_sentences.shape[-2], 1))\n",
    "\n",
    "# Train the bidirectional neural network\n",
    "bd_rnn_model = bd_model(\n",
    "    tmp_x.shape,\n",
    "    max_french_sequence_length,\n",
    "    english_vocab_size,\n",
    "    french_vocab_size)\n",
    "\n",
    "bd_rnn_model.summary()\n",
    "\n",
    "bd_rnn_model.fit(tmp_x, preproc_french_sentences, batch_size=1024, epochs=10, validation_split=0.2)\n",
    "\n"
   ]
  },
  {
   "cell_type": "code",
   "execution_count": 20,
   "metadata": {},
   "outputs": [
    {
     "name": "stdout",
     "output_type": "stream",
     "text": [
      "1/1 [==============================] - 1s 668ms/step\n",
      "new jersey est parfois calme en mois de mai et il en en en <PAD> <PAD> <PAD> <PAD> <PAD> <PAD> <PAD>\n"
     ]
    },
    {
     "data": {
      "text/plain": [
       "\"new jersey est parfois calme pendant l' automne , et il est neigeux en avril .\""
      ]
     },
     "execution_count": 20,
     "metadata": {},
     "output_type": "execute_result"
    }
   ],
   "source": [
    "# Print prediction(s)\n",
    "print(logits_to_text(bd_rnn_model.predict(tmp_x[:1])[0], french_tokenizer))\n",
    "\n",
    "french_sentences[0]"
   ]
  },
  {
   "cell_type": "markdown",
   "metadata": {},
   "source": [
    "### Model 4: Encoder-Decoder (IMPLEMENTATION)\n",
    "Time to look at encoder-decoder models.  This model is made up of an encoder and decoder. The encoder creates a matrix representation of the sentence.  The decoder takes this matrix as input and predicts the translation as output.\n",
    "\n",
    "Create an encoder-decoder model in the cell below."
   ]
  },
  {
   "cell_type": "code",
   "execution_count": 23,
   "metadata": {},
   "outputs": [
    {
     "name": "stdout",
     "output_type": "stream",
     "text": [
      "Model: \"model_7\"\n",
      "_________________________________________________________________\n",
      " Layer (type)                Output Shape              Param #   \n",
      "=================================================================\n",
      " input_10 (InputLayer)       [(None, 21, 1)]           0         \n",
      "                                                                 \n",
      " gru_10 (GRU)                (None, 256)               198912    \n",
      "                                                                 \n",
      " repeat_vector_1 (RepeatVec  (None, 21, 256)           0         \n",
      " tor)                                                            \n",
      "                                                                 \n",
      " gru_11 (GRU)                (None, 21, 256)           394752    \n",
      "                                                                 \n",
      " time_distributed_7 (TimeDi  (None, 21, 344)           88408     \n",
      " stributed)                                                      \n",
      "                                                                 \n",
      " activation_7 (Activation)   (None, 21, 344)           0         \n",
      "                                                                 \n",
      "=================================================================\n",
      "Total params: 682072 (2.60 MB)\n",
      "Trainable params: 682072 (2.60 MB)\n",
      "Non-trainable params: 0 (0.00 Byte)\n",
      "_________________________________________________________________\n",
      "Epoch 1/10\n",
      "108/108 [==============================] - 10s 51ms/step - loss: 2.8736 - accuracy: 0.4510 - val_loss: nan - val_accuracy: 0.4961\n",
      "Epoch 2/10\n",
      "108/108 [==============================] - 5s 44ms/step - loss: 2.1989 - accuracy: 0.5117 - val_loss: nan - val_accuracy: 0.5078\n",
      "Epoch 3/10\n",
      "108/108 [==============================] - 5s 44ms/step - loss: 1.9265 - accuracy: 0.5421 - val_loss: nan - val_accuracy: 0.5576\n",
      "Epoch 4/10\n",
      "108/108 [==============================] - 5s 44ms/step - loss: 1.6847 - accuracy: 0.5624 - val_loss: nan - val_accuracy: 0.5699\n",
      "Epoch 5/10\n",
      "108/108 [==============================] - 5s 44ms/step - loss: 1.5789 - accuracy: 0.5768 - val_loss: nan - val_accuracy: 0.5868\n",
      "Epoch 6/10\n",
      "108/108 [==============================] - 5s 43ms/step - loss: 1.5078 - accuracy: 0.5899 - val_loss: nan - val_accuracy: 0.5986\n",
      "Epoch 7/10\n",
      "108/108 [==============================] - 5s 43ms/step - loss: 1.4347 - accuracy: 0.6060 - val_loss: nan - val_accuracy: 0.6096\n",
      "Epoch 8/10\n",
      "108/108 [==============================] - 5s 43ms/step - loss: 1.4027 - accuracy: 0.6099 - val_loss: nan - val_accuracy: 0.6215\n",
      "Epoch 9/10\n",
      "108/108 [==============================] - 5s 43ms/step - loss: 1.3346 - accuracy: 0.6236 - val_loss: nan - val_accuracy: 0.6130\n",
      "Epoch 10/10\n",
      "108/108 [==============================] - 5s 42ms/step - loss: 1.2995 - accuracy: 0.6300 - val_loss: nan - val_accuracy: 0.6339\n",
      "1/1 [==============================] - 0s 24ms/step\n",
      "new jersey est parfois calme en mois de mai et il en en en <PAD> <PAD> <PAD> <PAD> <PAD> <PAD> <PAD>\n"
     ]
    },
    {
     "data": {
      "text/plain": [
       "\"new jersey est parfois calme pendant l' automne , et il est neigeux en avril .\""
      ]
     },
     "execution_count": 23,
     "metadata": {},
     "output_type": "execute_result"
    }
   ],
   "source": [
    "def encdec_model(input_shape, output_sequence_length, english_vocab_size, french_vocab_size):\n",
    "    \"\"\"\n",
    "    Build and train an encoder-decoder model on x and y\n",
    "    :param input_shape: Tuple of input shape\n",
    "    :param output_sequence_length: Length of output sequence\n",
    "    :param english_vocab_size: Number of unique English words in the dataset\n",
    "    :param french_vocab_size: Number of unique French words in the dataset\n",
    "    :return: Keras model built, but not trained\n",
    "    \"\"\"\n",
    "    # TODO: Implement\n",
    "    \n",
    "    learning_rate = 1e-3\n",
    "    \n",
    "    \n",
    "    # Encoder\n",
    "    encoder_input_seq = Input(shape=input_shape[1:])\n",
    "    encoder_gru = GRU(256, return_state=False)\n",
    "    encoder_output = encoder_gru(encoder_input_seq)\n",
    "    \n",
    "    # RepeatVector Layer to simplify decoder input and improve training stability\n",
    "    repeat_vector = RepeatVector(output_sequence_length)(encoder_output)\n",
    "    \n",
    "    # Decoder\n",
    "    decoder_gru = GRU(256, return_sequences=True)\n",
    "    decoder_output = decoder_gru(repeat_vector)\n",
    "    \n",
    "    \n",
    "    logits = TimeDistributed(Dense(french_vocab_size))(decoder_output)\n",
    "    \n",
    "    #Output layer\n",
    "    output = Activation('softmax')(logits)\n",
    "\n",
    "    model = Model(inputs=encoder_input_seq, outputs=output)\n",
    "    model.compile(loss=sparse_categorical_crossentropy,\n",
    "                  optimizer=Adam(learning_rate),\n",
    "                  metrics=['accuracy'])\n",
    "    return model\n",
    "   \n",
    "tests.test_encdec_model(encdec_model)\n",
    "\n",
    "\n",
    "# TODO: Train and Print prediction(s)\n",
    "\n",
    "# Reshaping the input \n",
    "tmp_x = pad(preproc_english_sentences, max_french_sequence_length)\n",
    "tmp_x = tmp_x.reshape((-1, preproc_french_sentences.shape[-2], 1))\n",
    "\n",
    "\n",
    "# Train the enc/dec neural network\n",
    "encdec_rnn_model = encdec_model(\n",
    "    tmp_x.shape,\n",
    "    max_french_sequence_length,\n",
    "    english_vocab_size,\n",
    "    french_vocab_size)\n",
    "\n",
    "encdec_rnn_model.summary()\n",
    "encdec_rnn_model.fit(tmp_x, preproc_french_sentences, batch_size=1024, epochs=10, validation_split=0.2)\n",
    "\n",
    "print(logits_to_text(bd_rnn_model.predict(tmp_x[:1])[0], french_tokenizer))\n",
    "french_sentences[0]\n"
   ]
  },
  {
   "cell_type": "markdown",
   "metadata": {},
   "source": [
    "### Model 5: Custom (IMPLEMENTATION)\n",
    "Use everything you learned from the previous models to create a model that incorporates embedding and a bidirectional rnn into one model."
   ]
  },
  {
   "cell_type": "code",
   "execution_count": 47,
   "metadata": {},
   "outputs": [
    {
     "name": "stdout",
     "output_type": "stream",
     "text": [
      "Final Model Loaded\n",
      "Model: \"model_29\"\n",
      "_________________________________________________________________\n",
      " Layer (type)                Output Shape              Param #   \n",
      "=================================================================\n",
      " input_45 (InputLayer)       [(None, 21)]              0         \n",
      "                                                                 \n",
      " embedding_30 (Embedding)    (None, 21, 64)            12736     \n",
      "                                                                 \n",
      " bidirectional_38 (Bidirect  (None, 512)               494592    \n",
      " ional)                                                          \n",
      "                                                                 \n",
      " repeat_vector_14 (RepeatVe  (None, 21, 512)           0         \n",
      " ctor)                                                           \n",
      "                                                                 \n",
      " bidirectional_39 (Bidirect  (None, 21, 512)           1182720   \n",
      " ional)                                                          \n",
      "                                                                 \n",
      " dropout_6 (Dropout)         (None, 21, 512)           0         \n",
      "                                                                 \n",
      " time_distributed_29 (TimeD  (None, 21, 344)           176472    \n",
      " istributed)                                                     \n",
      "                                                                 \n",
      " activation_29 (Activation)  (None, 21, 344)           0         \n",
      "                                                                 \n",
      "=================================================================\n",
      "Total params: 1866520 (7.12 MB)\n",
      "Trainable params: 1866520 (7.12 MB)\n",
      "Non-trainable params: 0 (0.00 Byte)\n",
      "_________________________________________________________________\n",
      "Epoch 1/20\n",
      "108/108 [==============================] - 23s 137ms/step - loss: 2.8407 - accuracy: 0.4506 - val_loss: nan - val_accuracy: 0.4884\n",
      "Epoch 2/20\n",
      "108/108 [==============================] - 12s 108ms/step - loss: 1.9560 - accuracy: 0.5142 - val_loss: nan - val_accuracy: 0.5673\n",
      "Epoch 3/20\n",
      "108/108 [==============================] - 11s 105ms/step - loss: 1.5950 - accuracy: 0.5835 - val_loss: nan - val_accuracy: 0.6291\n",
      "Epoch 4/20\n",
      "108/108 [==============================] - 11s 103ms/step - loss: 1.3692 - accuracy: 0.6279 - val_loss: nan - val_accuracy: 0.6746\n",
      "Epoch 5/20\n",
      "108/108 [==============================] - 11s 102ms/step - loss: 1.2020 - accuracy: 0.6678 - val_loss: nan - val_accuracy: 0.7034\n",
      "Epoch 6/20\n",
      "108/108 [==============================] - 11s 102ms/step - loss: 1.0851 - accuracy: 0.6928 - val_loss: nan - val_accuracy: 0.7238\n",
      "Epoch 7/20\n",
      "108/108 [==============================] - 11s 104ms/step - loss: 0.9894 - accuracy: 0.7147 - val_loss: nan - val_accuracy: 0.7477\n",
      "Epoch 8/20\n",
      "108/108 [==============================] - 11s 104ms/step - loss: 0.9068 - accuracy: 0.7344 - val_loss: nan - val_accuracy: 0.7639\n",
      "Epoch 9/20\n",
      "108/108 [==============================] - 11s 104ms/step - loss: 0.8563 - accuracy: 0.7463 - val_loss: nan - val_accuracy: 0.7744\n",
      "Epoch 10/20\n",
      "108/108 [==============================] - 11s 104ms/step - loss: 0.7781 - accuracy: 0.7671 - val_loss: nan - val_accuracy: 0.7933\n",
      "Epoch 11/20\n",
      "108/108 [==============================] - 11s 104ms/step - loss: 0.7203 - accuracy: 0.7822 - val_loss: nan - val_accuracy: 0.8130\n",
      "Epoch 12/20\n",
      "108/108 [==============================] - 11s 103ms/step - loss: 0.6713 - accuracy: 0.7951 - val_loss: nan - val_accuracy: 0.8242\n",
      "Epoch 13/20\n",
      "108/108 [==============================] - 11s 104ms/step - loss: 0.6093 - accuracy: 0.8123 - val_loss: nan - val_accuracy: 0.8392\n",
      "Epoch 14/20\n",
      "108/108 [==============================] - 11s 104ms/step - loss: 0.5611 - accuracy: 0.8268 - val_loss: nan - val_accuracy: 0.8603\n",
      "Epoch 15/20\n",
      "108/108 [==============================] - 11s 104ms/step - loss: 0.5141 - accuracy: 0.8412 - val_loss: nan - val_accuracy: 0.8700\n",
      "Epoch 16/20\n",
      "108/108 [==============================] - 11s 104ms/step - loss: 0.4693 - accuracy: 0.8548 - val_loss: nan - val_accuracy: 0.8893\n",
      "Epoch 17/20\n",
      "108/108 [==============================] - 11s 104ms/step - loss: 0.4272 - accuracy: 0.8687 - val_loss: nan - val_accuracy: 0.9031\n",
      "Epoch 18/20\n",
      "108/108 [==============================] - 11s 104ms/step - loss: 0.3859 - accuracy: 0.8829 - val_loss: nan - val_accuracy: 0.9137\n",
      "Epoch 19/20\n",
      "108/108 [==============================] - 11s 104ms/step - loss: 0.3599 - accuracy: 0.8920 - val_loss: nan - val_accuracy: 0.9232\n",
      "Epoch 20/20\n",
      "108/108 [==============================] - 11s 104ms/step - loss: 0.3189 - accuracy: 0.9057 - val_loss: nan - val_accuracy: 0.9333\n",
      "1/1 [==============================] - 1s 1s/step\n",
      "new jersey est parfois calme pendant l' automne et il est en avril <PAD> en <PAD> <PAD> <PAD> <PAD> <PAD> <PAD>\n"
     ]
    },
    {
     "data": {
      "text/plain": [
       "\"new jersey est parfois calme pendant l' automne , et il est neigeux en avril .\""
      ]
     },
     "execution_count": 47,
     "metadata": {},
     "output_type": "execute_result"
    }
   ],
   "source": [
    "\n",
    "from keras.layers import Dropout\n",
    "\n",
    "\n",
    "def model_final(input_shape, output_sequence_length, english_vocab_size, french_vocab_size):\n",
    "    \"\"\"\n",
    "    Build and train a model that incorporates embedding, encoder-decoder, and bidirectional RNN on x and y\n",
    "    :param input_shape: Tuple of input shape\n",
    "    :param output_sequence_length: Length of output sequence\n",
    "    :param english_vocab_size: Number of unique English words in the dataset\n",
    "    :param french_vocab_size: Number of unique French words in the dataset\n",
    "    :return: Keras model built, but not trained\n",
    "    \"\"\"\n",
    "    \n",
    " \n",
    "    # TODO:\n",
    "    learning_rate = 1e-3\n",
    "\n",
    "      \n",
    "    # Encoder\n",
    "    encoder_input_seq = Input(shape=input_shape[1:])\n",
    "    embedding = Embedding(input_dim=english_vocab_size, output_dim=64, input_length=input_shape)(encoder_input_seq)\n",
    "    encoder_bd_gru = Bidirectional(GRU(256, return_state=False))(embedding)\n",
    "    \n",
    "    \n",
    "    # RepeatVector Layer\n",
    "    repeat_vector = RepeatVector(output_sequence_length)(encoder_bd_gru)\n",
    "    \n",
    "    # Decoder\n",
    "    decoder_gru = Bidirectional(GRU(256, return_sequences=True))\n",
    "    decoder_output = decoder_gru(repeat_vector)\n",
    "    \n",
    "    #Adding dropout to prevent overfitting and improve generalization\n",
    "    decoder_dropout = Dropout(0.5)(decoder_output)\n",
    "    \n",
    "    \n",
    "    logits = TimeDistributed(Dense(french_vocab_size))(decoder_dropout)\n",
    "    \n",
    "    \n",
    "    #Output layer\n",
    "    output = Activation('softmax')(logits)\n",
    "    \n",
    "    #Model compilation\n",
    "    model = Model(inputs=encoder_input_seq, outputs=output)\n",
    "    model.compile(loss=sparse_categorical_crossentropy,\n",
    "                  optimizer=Adam(learning_rate),\n",
    "                  metrics=['accuracy'])\n",
    "    return model\n",
    "\n",
    "tests.test_model_final(model_final)\n",
    "\n",
    "print('Final Model Loaded')\n",
    "\n",
    "# Reshaping the input\n",
    "\n",
    "tmp_x = pad(preproc_english_sentences, max_french_sequence_length)\n",
    "#tmp_x = tmp_x.reshape((-1, preproc_french_sentences.shape[-2], 1))\n",
    "\n",
    "# TODO: Train the final model\n",
    "\n",
    "custom_model = model_final(\n",
    "    tmp_x.shape,\n",
    "    max_french_sequence_length,\n",
    "    english_vocab_size,\n",
    "    french_vocab_size)\n",
    "\n",
    "custom_model.summary()\n",
    "\n",
    "custom_model.fit(tmp_x, preproc_french_sentences, batch_size=1024, epochs=20, validation_split=0.2)\n",
    "\n",
    "print(logits_to_text(custom_model.predict(tmp_x[:1])[0], french_tokenizer))\n",
    "\n",
    "french_sentences[0]"
   ]
  },
  {
   "cell_type": "markdown",
   "metadata": {},
   "source": [
    "## Prediction (IMPLEMENTATION)"
   ]
  },
  {
   "cell_type": "code",
   "execution_count": 48,
   "metadata": {},
   "outputs": [
    {
     "name": "stdout",
     "output_type": "stream",
     "text": [
      "Model: \"model_30\"\n",
      "_________________________________________________________________\n",
      " Layer (type)                Output Shape              Param #   \n",
      "=================================================================\n",
      " input_46 (InputLayer)       [(None, 15)]              0         \n",
      "                                                                 \n",
      " embedding_31 (Embedding)    (None, 15, 64)            12736     \n",
      "                                                                 \n",
      " bidirectional_40 (Bidirect  (None, 512)               494592    \n",
      " ional)                                                          \n",
      "                                                                 \n",
      " repeat_vector_15 (RepeatVe  (None, 21, 512)           0         \n",
      " ctor)                                                           \n",
      "                                                                 \n",
      " bidirectional_41 (Bidirect  (None, 21, 512)           1182720   \n",
      " ional)                                                          \n",
      "                                                                 \n",
      " dropout_7 (Dropout)         (None, 21, 512)           0         \n",
      "                                                                 \n",
      " time_distributed_30 (TimeD  (None, 21, 344)           176472    \n",
      " istributed)                                                     \n",
      "                                                                 \n",
      " activation_30 (Activation)  (None, 21, 344)           0         \n",
      "                                                                 \n",
      "=================================================================\n",
      "Total params: 1866520 (7.12 MB)\n",
      "Trainable params: 1866520 (7.12 MB)\n",
      "Non-trainable params: 0 (0.00 Byte)\n",
      "_________________________________________________________________\n",
      "Epoch 1/20\n",
      "216/216 [==============================] - 24s 69ms/step - loss: 2.3715 - accuracy: 0.4861 - val_loss: nan - val_accuracy: 0.5726\n",
      "Epoch 2/20\n",
      "216/216 [==============================] - 11s 52ms/step - loss: 1.4781 - accuracy: 0.6090 - val_loss: nan - val_accuracy: 0.6649\n",
      "Epoch 3/20\n",
      "216/216 [==============================] - 11s 52ms/step - loss: 1.1389 - accuracy: 0.6811 - val_loss: nan - val_accuracy: 0.7291\n",
      "Epoch 4/20\n",
      "216/216 [==============================] - 11s 51ms/step - loss: 0.9280 - accuracy: 0.7304 - val_loss: nan - val_accuracy: 0.7681\n",
      "Epoch 5/20\n",
      "216/216 [==============================] - 11s 50ms/step - loss: 0.7888 - accuracy: 0.7651 - val_loss: nan - val_accuracy: 0.8003\n",
      "Epoch 6/20\n",
      "216/216 [==============================] - 11s 50ms/step - loss: 0.6839 - accuracy: 0.7932 - val_loss: nan - val_accuracy: 0.8327\n",
      "Epoch 7/20\n",
      "216/216 [==============================] - 11s 50ms/step - loss: 0.5703 - accuracy: 0.8258 - val_loss: nan - val_accuracy: 0.8612\n",
      "Epoch 8/20\n",
      "216/216 [==============================] - 11s 50ms/step - loss: 0.4800 - accuracy: 0.8528 - val_loss: nan - val_accuracy: 0.8925\n",
      "Epoch 9/20\n",
      "216/216 [==============================] - 11s 51ms/step - loss: 0.4045 - accuracy: 0.8781 - val_loss: nan - val_accuracy: 0.9155\n",
      "Epoch 10/20\n",
      "216/216 [==============================] - 11s 52ms/step - loss: 0.3430 - accuracy: 0.8980 - val_loss: nan - val_accuracy: 0.9259\n",
      "Epoch 11/20\n",
      "216/216 [==============================] - 11s 52ms/step - loss: 0.2943 - accuracy: 0.9135 - val_loss: nan - val_accuracy: 0.9405\n",
      "Epoch 12/20\n",
      "216/216 [==============================] - 11s 51ms/step - loss: 0.2595 - accuracy: 0.9239 - val_loss: nan - val_accuracy: 0.9453\n",
      "Epoch 13/20\n",
      "216/216 [==============================] - 11s 50ms/step - loss: 0.2305 - accuracy: 0.9324 - val_loss: nan - val_accuracy: 0.9531\n",
      "Epoch 14/20\n",
      "216/216 [==============================] - 11s 50ms/step - loss: 0.2043 - accuracy: 0.9405 - val_loss: nan - val_accuracy: 0.9528\n",
      "Epoch 15/20\n",
      "216/216 [==============================] - 11s 50ms/step - loss: 0.1862 - accuracy: 0.9457 - val_loss: nan - val_accuracy: 0.9595\n",
      "Epoch 16/20\n",
      "216/216 [==============================] - 11s 51ms/step - loss: 0.1726 - accuracy: 0.9498 - val_loss: nan - val_accuracy: 0.9602\n",
      "Epoch 17/20\n",
      "216/216 [==============================] - 11s 51ms/step - loss: 0.1564 - accuracy: 0.9544 - val_loss: nan - val_accuracy: 0.9649\n",
      "Epoch 18/20\n",
      "216/216 [==============================] - 11s 50ms/step - loss: 0.1424 - accuracy: 0.9586 - val_loss: nan - val_accuracy: 0.9675\n",
      "Epoch 19/20\n",
      "216/216 [==============================] - 11s 50ms/step - loss: 0.1344 - accuracy: 0.9611 - val_loss: nan - val_accuracy: 0.9690\n",
      "Epoch 20/20\n",
      "216/216 [==============================] - 11s 50ms/step - loss: 0.1216 - accuracy: 0.9646 - val_loss: nan - val_accuracy: 0.9702\n",
      "1/1 [==============================] - 1s 1s/step\n",
      "Sample 1:\n",
      "il a vu un vieux camion jaune <PAD> <PAD> <PAD> <PAD> <PAD> <PAD> <PAD> <PAD> <PAD> <PAD> <PAD> <PAD> <PAD> <PAD>\n",
      "Il a vu un vieux camion jaune\n",
      "Sample 2:\n",
      "new jersey est parfois calme pendant l' automne et il est neigeux en avril <PAD> <PAD> <PAD> <PAD> <PAD> <PAD> <PAD>\n",
      "new jersey est parfois calme pendant l' automne et il est neigeux en avril <PAD> <PAD> <PAD> <PAD> <PAD> <PAD> <PAD>\n"
     ]
    }
   ],
   "source": [
    "def final_predictions(x, y, x_tk, y_tk):\n",
    "    \"\"\"\n",
    "    Gets predictions using the final model\n",
    "    :param x: Preprocessed English data\n",
    "    :param y: Preprocessed French data\n",
    "    :param x_tk: English tokenizer\n",
    "    :param y_tk: French tokenizer\n",
    "    \"\"\"\n",
    "    # TODO: Train neural network using model_final\n",
    "    \n",
    "    \n",
    "    model = model_final(x.shape, y.shape[1], len(x_tk.word_index), len(y_tk.word_index))\n",
    "    \n",
    "    model.summary()\n",
    "    model.fit(x, y, batch_size=512, epochs=20, validation_split=0.2)\n",
    "    \n",
    "    ## DON'T EDIT ANYTHING BELOW THIS LINE\n",
    "    y_id_to_word = {value: key for key, value in y_tk.word_index.items()}\n",
    "    y_id_to_word[0] = '<PAD>'\n",
    "\n",
    "    sentence = 'he saw a old yellow truck'\n",
    "    sentence = [x_tk.word_index[word] for word in sentence.split()]\n",
    "    sentence = pad_sequences([sentence], maxlen=x.shape[-1], padding='post')\n",
    "    sentences = np.array([sentence[0], x[0]])\n",
    "    predictions = model.predict(sentences, len(sentences))\n",
    "\n",
    "    print('Sample 1:')\n",
    "    print(' '.join([y_id_to_word[np.argmax(x)] for x in predictions[0]]))\n",
    "    print('Il a vu un vieux camion jaune')\n",
    "    print('Sample 2:')\n",
    "    print(' '.join([y_id_to_word[np.argmax(x)] for x in predictions[1]]))\n",
    "    print(' '.join([y_id_to_word[np.max(x)] for x in y[0]]))\n",
    "\n",
    "\n",
    "final_predictions(preproc_english_sentences, preproc_french_sentences, english_tokenizer, french_tokenizer)"
   ]
  },
  {
   "cell_type": "markdown",
   "metadata": {},
   "source": [
    "## Submission\n",
    "When you're ready to submit, complete the following steps:\n",
    "1. Review the rubric to ensure your submission meets all requirements to pass\n",
    "2. Generate an HTML version of this notebook\n",
    "\n",
    "  - Run the next cell to attempt automatic generation (this is the recommended method in Workspaces)\n",
    "  - Navigate to **FILE -> Download as -> HTML (.html)**\n",
    "  - Manually generate a copy using `nbconvert` from your shell terminal\n",
    "```\n",
    "$ pip install nbconvert\n",
    "$ python -m nbconvert machine_translation.ipynb\n",
    "```\n",
    "  \n",
    "3. Submit the project\n",
    "\n",
    "  - If you are in a Workspace, simply click the \"Submit Project\" button (bottom towards the right)\n",
    "  \n",
    "  - Otherwise, add the following files into a zip archive and submit them \n",
    "  - `helper.py`\n",
    "  - `machine_translation.ipynb`\n",
    "  - `machine_translation.html`\n",
    "    - You can export the notebook by navigating to **File -> Download as -> HTML (.html)**."
   ]
  },
  {
   "cell_type": "markdown",
   "metadata": {},
   "source": [
    "### Generate the html\n",
    "\n",
    "**Save your notebook before running the next cell to generate the HTML output.** Then submit your project."
   ]
  },
  {
   "cell_type": "code",
   "execution_count": 51,
   "metadata": {},
   "outputs": [
    {
     "data": {
      "text/plain": [
       "['[NbConvertApp] Converting notebook machine_translation-zh.ipynb to html',\n",
       " '[NbConvertApp] Writing 330691 bytes to machine_translation-zh.html',\n",
       " '[NbConvertApp] Converting notebook machine_translation.ipynb to html',\n",
       " '[NbConvertApp] Writing 398873 bytes to machine_translation.html']"
      ]
     },
     "execution_count": 51,
     "metadata": {},
     "output_type": "execute_result"
    }
   ],
   "source": [
    "# Save before you run this cell!\n",
    "!!jupyter nbconvert --to html *.ipynb"
   ]
  },
  {
   "cell_type": "markdown",
   "metadata": {},
   "source": [
    "## Optional Enhancements\n",
    "\n",
    "This project focuses on learning various network architectures for machine translation, but we don't evaluate the models according to best practices by splitting the data into separate test & training sets -- so the model accuracy is overstated. Use the [`sklearn.model_selection.train_test_split()`](http://scikit-learn.org/stable/modules/generated/sklearn.model_selection.train_test_split.html) function to create separate training & test datasets, then retrain each of the models using only the training set and evaluate the prediction accuracy using the hold out test set. Does the \"best\" model change?"
   ]
  }
 ],
 "metadata": {
  "kernelspec": {
   "display_name": "Python 3 (ipykernel)",
   "language": "python",
   "name": "python3"
  },
  "language_info": {
   "codemirror_mode": {
    "name": "ipython",
    "version": 3
   },
   "file_extension": ".py",
   "mimetype": "text/x-python",
   "name": "python",
   "nbconvert_exporter": "python",
   "pygments_lexer": "ipython3",
   "version": "3.11.0rc1"
  }
 },
 "nbformat": 4,
 "nbformat_minor": 1
}
